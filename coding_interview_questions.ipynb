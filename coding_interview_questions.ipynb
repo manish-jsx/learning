{
  "cells": [
    {
      "cell_type": "markdown",
      "metadata": {},
      "source": [
        "# Coding Interview Questions\n",
        "\n",
        "This Jupyter Notebook contains Python code for 100 coding interview questions.\n",
        "Feel free to use it for interview preparation or as a reference.\n"
      ]
    },
    {
      "cell_type": "code",
      "execution_count": 1,
      "metadata": {},
      "outputs": [
        {
          "name": "stdout",
          "output_type": "stream",
          "text": [
            "hsinam\n"
          ]
        }
      ],
      "source": [
        "# Question 1\n",
        "# Reverse a string.\n",
        "string =\"manish\"\n",
        "print(string[::-1])\n"
      ]
    },
    {
      "cell_type": "code",
      "execution_count": 2,
      "metadata": {},
      "outputs": [],
      "source": [
        "# Question 2\n",
        "# Check if a string is a palindrome.\n"
      ]
    },
    {
      "cell_type": "code",
      "execution_count": 3,
      "metadata": {},
      "outputs": [],
      "source": [
        "# Question 3\n",
        "# Find the first non-repeated character in a string.\n"
      ]
    },
    {
      "cell_type": "code",
      "execution_count": 4,
      "metadata": {},
      "outputs": [],
      "source": [
        "# Question 4\n",
        "# Implement a function to check if a string has all unique characters.\n"
      ]
    },
    {
      "cell_type": "code",
      "execution_count": 5,
      "metadata": {},
      "outputs": [],
      "source": [
        "# Question 5\n",
        "# Count the number of vowels in a string.\n"
      ]
    },
    {
      "cell_type": "code",
      "execution_count": 6,
      "metadata": {},
      "outputs": [],
      "source": [
        "# Question 6\n",
        "# Implement a function to remove duplicates from a list.\n"
      ]
    },
    {
      "cell_type": "code",
      "execution_count": 7,
      "metadata": {},
      "outputs": [],
      "source": [
        "# Question 7\n",
        "# Check if two strings are anagrams of each other.\n"
      ]
    },
    {
      "cell_type": "code",
      "execution_count": 8,
      "metadata": {},
      "outputs": [],
      "source": [
        "# Question 8\n",
        "# Implement a function to find the factorial of a number.\n"
      ]
    },
    {
      "cell_type": "code",
      "execution_count": 9,
      "metadata": {},
      "outputs": [],
      "source": [
        "# Question 9\n",
        "# Calculate the nth Fibonacci number.\n"
      ]
    },
    {
      "cell_type": "code",
      "execution_count": 10,
      "metadata": {},
      "outputs": [],
      "source": [
        "# Question 10\n",
        "# Write a function to check if a number is prime.\n"
      ]
    },
    {
      "cell_type": "code",
      "execution_count": 11,
      "metadata": {},
      "outputs": [],
      "source": [
        "# Question 11\n",
        "# Implement a function to find the intersection of two lists.\n"
      ]
    },
    {
      "cell_type": "code",
      "execution_count": 12,
      "metadata": {},
      "outputs": [],
      "source": [
        "# Question 12\n",
        "# Rotate an array to the right by k steps.\n"
      ]
    },
    {
      "cell_type": "code",
      "execution_count": 13,
      "metadata": {},
      "outputs": [],
      "source": [
        "# Question 13\n",
        "# Implement a stack using arrays/lists.\n"
      ]
    },
    {
      "cell_type": "code",
      "execution_count": 14,
      "metadata": {},
      "outputs": [],
      "source": [
        "# Question 14\n",
        "# Implement a queue using arrays/lists.\n"
      ]
    },
    {
      "cell_type": "code",
      "execution_count": 15,
      "metadata": {},
      "outputs": [],
      "source": [
        "# Question 15\n",
        "# Implement a binary search algorithm.\n"
      ]
    },
    {
      "cell_type": "code",
      "execution_count": 16,
      "metadata": {},
      "outputs": [],
      "source": [
        "# Question 16\n",
        "# Implement a bubble sort algorithm.\n"
      ]
    },
    {
      "cell_type": "code",
      "execution_count": 17,
      "metadata": {},
      "outputs": [],
      "source": [
        "# Question 17\n",
        "# Implement a merge sort algorithm.\n"
      ]
    },
    {
      "cell_type": "code",
      "execution_count": 18,
      "metadata": {},
      "outputs": [],
      "source": [
        "# Question 18\n",
        "# Implement a linked list.\n"
      ]
    },
    {
      "cell_type": "code",
      "execution_count": 19,
      "metadata": {},
      "outputs": [],
      "source": [
        "# Question 19\n",
        "# Find the largest element in an array.\n"
      ]
    },
    {
      "cell_type": "code",
      "execution_count": 20,
      "metadata": {},
      "outputs": [],
      "source": [
        "# Question 20\n",
        "# Calculate the square root of a number without using library functions.\n"
      ]
    },
    {
      "cell_type": "code",
      "execution_count": 21,
      "metadata": {},
      "outputs": [],
      "source": [
        "# Question 21\n",
        "# Implement a binary tree and perform an inorder traversal.\n"
      ]
    },
    {
      "cell_type": "code",
      "execution_count": 22,
      "metadata": {},
      "outputs": [],
      "source": [
        "# Question 22\n",
        "# Check if a binary tree is balanced.\n"
      ]
    },
    {
      "cell_type": "code",
      "execution_count": 23,
      "metadata": {},
      "outputs": [],
      "source": [
        "# Question 23\n",
        "# Write a function to reverse a linked list.\n"
      ]
    },
    {
      "cell_type": "code",
      "execution_count": 24,
      "metadata": {},
      "outputs": [],
      "source": [
        "# Question 24\n",
        "# Determine if a linked list has a cycle.\n"
      ]
    },
    {
      "cell_type": "code",
      "execution_count": 25,
      "metadata": {},
      "outputs": [],
      "source": [
        "# Question 25\n",
        "# Implement a hash table.\n"
      ]
    },
    {
      "cell_type": "code",
      "execution_count": 26,
      "metadata": {},
      "outputs": [],
      "source": [
        "# Question 26\n",
        "# Implement a depth-first search (DFS) algorithm.\n"
      ]
    },
    {
      "cell_type": "code",
      "execution_count": 27,
      "metadata": {},
      "outputs": [],
      "source": [
        "# Question 27\n",
        "# Implement a breadth-first search (BFS) algorithm.\n"
      ]
    },
    {
      "cell_type": "code",
      "execution_count": 28,
      "metadata": {},
      "outputs": [],
      "source": [
        "# Question 28\n",
        "# Find the missing number in an array of 1 to n.\n"
      ]
    },
    {
      "cell_type": "code",
      "execution_count": 29,
      "metadata": {},
      "outputs": [],
      "source": [
        "# Question 29\n",
        "# Determine if a string has balanced parentheses.\n"
      ]
    },
    {
      "cell_type": "code",
      "execution_count": 30,
      "metadata": {},
      "outputs": [],
      "source": [
        "# Question 30\n",
        "# Implement a priority queue.\n"
      ]
    },
    {
      "cell_type": "code",
      "execution_count": 31,
      "metadata": {},
      "outputs": [],
      "source": [
        "# Question 31\n",
        "# Implement a basic calculator for addition, subtraction, multiplication, and division.\n"
      ]
    },
    {
      "cell_type": "code",
      "execution_count": 32,
      "metadata": {},
      "outputs": [],
      "source": [
        "# Question 32\n",
        "# Implement a simple cache.\n"
      ]
    },
    {
      "cell_type": "code",
      "execution_count": 33,
      "metadata": {},
      "outputs": [],
      "source": [
        "# Question 33\n",
        "# Find the longest common prefix in an array of strings.\n"
      ]
    },
    {
      "cell_type": "code",
      "execution_count": 34,
      "metadata": {},
      "outputs": [],
      "source": [
        "# Question 34\n",
        "# Determine if a number is a power of two.\n"
      ]
    },
    {
      "cell_type": "code",
      "execution_count": 35,
      "metadata": {},
      "outputs": [],
      "source": [
        "# Question 35\n",
        "# Implement a binary search in a rotated array.\n"
      ]
    },
    {
      "cell_type": "code",
      "execution_count": 36,
      "metadata": {},
      "outputs": [],
      "source": [
        "# Question 36\n",
        "# Count the number of set bits in a binary representation of a number.\n"
      ]
    },
    {
      "cell_type": "code",
      "execution_count": 37,
      "metadata": {},
      "outputs": [],
      "source": [
        "# Question 37\n",
        "# Reverse words in a given string.\n"
      ]
    },
    {
      "cell_type": "code",
      "execution_count": 38,
      "metadata": {},
      "outputs": [],
      "source": [
        "# Question 38\n",
        "# Implement an algorithm to solve the Tower of Hanoi problem.\n"
      ]
    },
    {
      "cell_type": "code",
      "execution_count": 39,
      "metadata": {},
      "outputs": [],
      "source": [
        "# Question 39\n",
        "# Check if a given graph is a tree.\n"
      ]
    },
    {
      "cell_type": "code",
      "execution_count": 40,
      "metadata": {},
      "outputs": [],
      "source": [
        "# Question 40\n",
        "# Find the shortest path in a weighted graph using Dijkstra's algorithm.\n"
      ]
    },
    {
      "cell_type": "code",
      "execution_count": 41,
      "metadata": {},
      "outputs": [],
      "source": [
        "# Question 41\n",
        "# Check if a string contains only digits.\n"
      ]
    },
    {
      "cell_type": "code",
      "execution_count": 42,
      "metadata": {},
      "outputs": [],
      "source": [
        "# Question 42\n",
        "# Implement a function to convert a Roman numeral to an integer.\n"
      ]
    },
    {
      "cell_type": "code",
      "execution_count": 43,
      "metadata": {},
      "outputs": [],
      "source": [
        "# Question 43\n",
        "# Find the majority element in an array.\n"
      ]
    },
    {
      "cell_type": "code",
      "execution_count": 44,
      "metadata": {},
      "outputs": [],
      "source": [
        "# Question 44\n",
        "# Implement an LRU (Least Recently Used) cache.\n"
      ]
    },
    {
      "cell_type": "code",
      "execution_count": 45,
      "metadata": {},
      "outputs": [],
      "source": [
        "# Question 45\n",
        "# Determine if a Sudoku is valid.\n"
      ]
    },
    {
      "cell_type": "code",
      "execution_count": 46,
      "metadata": {},
      "outputs": [],
      "source": [
        "# Question 46\n",
        "# Implement a Trie data structure.\n"
      ]
    },
    {
      "cell_type": "code",
      "execution_count": 47,
      "metadata": {},
      "outputs": [],
      "source": [
        "# Question 47\n",
        "# Find the longest increasing subsequence in an array.\n"
      ]
    },
    {
      "cell_type": "code",
      "execution_count": 48,
      "metadata": {},
      "outputs": [],
      "source": [
        "# Question 48\n",
        "# Implement an algorithm to reverse a sentence word by word.\n"
      ]
    },
    {
      "cell_type": "code",
      "execution_count": 49,
      "metadata": {},
      "outputs": [],
      "source": [
        "# Question 49\n",
        "# Implement a function to calculate the power set of a set.\n"
      ]
    },
    {
      "cell_type": "code",
      "execution_count": 50,
      "metadata": {},
      "outputs": [],
      "source": [
        "# Question 50\n",
        "# Determine if a string is a valid IP address.\n"
      ]
    },
    {
      "cell_type": "code",
      "execution_count": 51,
      "metadata": {},
      "outputs": [],
      "source": [
        "# Question 51\n",
        "# Implement an algorithm to find the shortest common supersequence.\n"
      ]
    },
    {
      "cell_type": "code",
      "execution_count": 52,
      "metadata": {},
      "outputs": [],
      "source": [
        "# Question 52\n",
        "# Implement an algorithm to find the shortest path in a maze.\n"
      ]
    },
    {
      "cell_type": "code",
      "execution_count": 53,
      "metadata": {},
      "outputs": [],
      "source": [
        "# Question 53\n",
        "# Implement a function to perform string matching using regular expressions.\n"
      ]
    },
    {
      "cell_type": "code",
      "execution_count": 54,
      "metadata": {},
      "outputs": [],
      "source": [
        "# Question 54\n",
        "# Write a function to generate all possible valid IP addresses from a given string.\n"
      ]
    },
    {
      "cell_type": "code",
      "execution_count": 55,
      "metadata": {},
      "outputs": [],
      "source": [
        "# Question 55\n",
        "# Implement a binary search tree and perform operations like insertion, deletion, and searching.\n"
      ]
    },
    {
      "cell_type": "code",
      "execution_count": 56,
      "metadata": {},
      "outputs": [],
      "source": [
        "# Question 56\n",
        "# Check if a given graph is connected.\n"
      ]
    },
    {
      "cell_type": "code",
      "execution_count": 57,
      "metadata": {},
      "outputs": [],
      "source": [
        "# Question 57\n",
        "# Implement an algorithm to find the kth smallest/largest element in an array.\n"
      ]
    },
    {
      "cell_type": "code",
      "execution_count": 58,
      "metadata": {},
      "outputs": [],
      "source": [
        "# Question 58\n",
        "# Determine if a string is a valid parenthesis expression.\n"
      ]
    },
    {
      "cell_type": "code",
      "execution_count": 59,
      "metadata": {},
      "outputs": [],
      "source": [
        "# Question 59\n",
        "# Implement a function to find the longest common substring between two strings.\n"
      ]
    },
    {
      "cell_type": "code",
      "execution_count": 60,
      "metadata": {},
      "outputs": [],
      "source": [
        "# Question 60\n",
        "# Implement an algorithm to find the longest palindrome substring in a string.\n"
      ]
    },
    {
      "cell_type": "code",
      "execution_count": 61,
      "metadata": {},
      "outputs": [],
      "source": [
        "# Question 61\n",
        "# Check if a tree is a subtree of another tree.\n"
      ]
    },
    {
      "cell_type": "code",
      "execution_count": 62,
      "metadata": {},
      "outputs": [],
      "source": [
        "# Question 62\n",
        "# Determine the height of a binary tree.\n"
      ]
    },
    {
      "cell_type": "code",
      "execution_count": 63,
      "metadata": {},
      "outputs": [],
      "source": [
        "# Question 63\n",
        "# Implement an algorithm to find the shortest path in a grid with obstacles.\n"
      ]
    },
    {
      "cell_type": "code",
      "execution_count": 64,
      "metadata": {},
      "outputs": [],
      "source": [
        "# Question 64\n",
        "# Determine if a number is a palindrome in binary representation.\n"
      ]
    },
    {
      "cell_type": "code",
      "execution_count": 65,
      "metadata": {},
      "outputs": [],
      "source": [
        "# Question 65\n",
        "# Implement a function to perform matrix multiplication.\n"
      ]
    },
    {
      "cell_type": "code",
      "execution_count": 66,
      "metadata": {},
      "outputs": [],
      "source": [
        "# Question 66\n",
        "# Check if a tree is a binary search tree.\n"
      ]
    },
    {
      "cell_type": "code",
      "execution_count": 67,
      "metadata": {},
      "outputs": [],
      "source": [
        "# Question 67\n",
        "# Implement a function to check if a linked list is a palindrome.\n"
      ]
    },
    {
      "cell_type": "code",
      "execution_count": 68,
      "metadata": {},
      "outputs": [],
      "source": [
        "# Question 68\n",
        "# Determine if a given sequence of moves is circular in a 2D plane.\n"
      ]
    },
    {
      "cell_type": "code",
      "execution_count": 69,
      "metadata": {},
      "outputs": [],
      "source": [
        "# Question 69\n",
        "# Implement an algorithm to find the maximum subarray sum.\n"
      ]
    },
    {
      "cell_type": "code",
      "execution_count": 70,
      "metadata": {},
      "outputs": [],
      "source": [
        "# Question 70\n",
        "# Determine if a graph is cyclic.\n"
      ]
    },
    {
      "cell_type": "code",
      "execution_count": 71,
      "metadata": {},
      "outputs": [],
      "source": [
        "# Question 71\n",
        "# Implement an algorithm to find the shortest path in a graph using Bellman-Ford algorithm.\n"
      ]
    },
    {
      "cell_type": "code",
      "execution_count": 72,
      "metadata": {},
      "outputs": [],
      "source": [
        "# Question 72\n",
        "# Implement an algorithm to find the longest increasing subarray.\n"
      ]
    },
    {
      "cell_type": "code",
      "execution_count": 73,
      "metadata": {},
      "outputs": [],
      "source": [
        "# Question 73\n",
        "# Determine if a given tree is a subtree of another tree.\n"
      ]
    },
    {
      "cell_type": "code",
      "execution_count": 74,
      "metadata": {},
      "outputs": [],
      "source": [
        "# Question 74\n",
        "# Implement an algorithm to find the articulation points in a graph.\n"
      ]
    },
    {
      "cell_type": "code",
      "execution_count": 75,
      "metadata": {},
      "outputs": [],
      "source": [
        "# Question 75\n",
        "# Check if a linked list has a loop and find the start of the loop.\n"
      ]
    },
    {
      "cell_type": "code",
      "execution_count": 76,
      "metadata": {},
      "outputs": [],
      "source": [
        "# Question 76\n",
        "# Implement an algorithm to find the minimum spanning tree of a graph using Kruskal's algorithm.\n"
      ]
    },
    {
      "cell_type": "code",
      "execution_count": 77,
      "metadata": {},
      "outputs": [],
      "source": [
        "# Question 77\n",
        "# Implement an algorithm to find the diameter of a binary tree.\n"
      ]
    },
    {
      "cell_type": "code",
      "execution_count": 78,
      "metadata": {},
      "outputs": [],
      "source": [
        "# Question 78\n",
        "# Determine if a string has balanced square brackets.\n"
      ]
    },
    {
      "cell_type": "code",
      "execution_count": 79,
      "metadata": {},
      "outputs": [],
      "source": [
        "# Question 79\n",
        "# Implement an algorithm to find the shortest path in a weighted graph using the Floyd-Warshall algorithm.\n"
      ]
    },
    {
      "cell_type": "code",
      "execution_count": 80,
      "metadata": {},
      "outputs": [],
      "source": [
        "# Question 80\n",
        "# Write a function to generate all possible permutations of a string.\n"
      ]
    },
    {
      "cell_type": "code",
      "execution_count": 81,
      "metadata": {},
      "outputs": [],
      "source": [
        "# Question 81\n",
        "# Implement an algorithm to find the median of two sorted arrays.\n"
      ]
    },
    {
      "cell_type": "code",
      "execution_count": 82,
      "metadata": {},
      "outputs": [],
      "source": [
        "# Question 82\n",
        "# Check if a graph is bipartite.\n"
      ]
    },
    {
      "cell_type": "code",
      "execution_count": 83,
      "metadata": {},
      "outputs": [],
      "source": [
        "# Question 83\n",
        "# Implement an algorithm to find the maximum flow in a flow network using the Ford-Fulkerson method.\n"
      ]
    },
    {
      "cell_type": "code",
      "execution_count": 84,
      "metadata": {},
      "outputs": [],
      "source": [
        "# Question 84\n",
        "# Determine if a given tree is a balanced binary search tree.\n"
      ]
    },
    {
      "cell_type": "code",
      "execution_count": 85,
      "metadata": {},
      "outputs": [],
      "source": [
        "# Question 85\n",
        "# Implement an algorithm to find the longest palindromic subsequence.\n"
      ]
    },
    {
      "cell_type": "code",
      "execution_count": 86,
      "metadata": {},
      "outputs": [],
      "source": [
        "# Question 86\n",
        "# Check if a given number is a happy number.\n"
      ]
    },
    {
      "cell_type": "code",
      "execution_count": 87,
      "metadata": {},
      "outputs": [],
      "source": [
        "# Question 87\n",
        "# Implement an algorithm to find the topological order of a directed acyclic graph.\n"
      ]
    },
    {
      "cell_type": "code",
      "execution_count": 88,
      "metadata": {},
      "outputs": [],
      "source": [
        "# Question 88\n",
        "# Determine if a string is a valid number (integer or floating-point).\n"
      ]
    },
    {
      "cell_type": "code",
      "execution_count": 89,
      "metadata": {},
      "outputs": [],
      "source": [
        "# Question 89\n",
        "# Implement an algorithm to find the longest common subsequence of two strings.\n"
      ]
    },
    {
      "cell_type": "code",
      "execution_count": 90,
      "metadata": {},
      "outputs": [],
      "source": [
        "# Question 90\n",
        "# Check if a linked list is a circular linked list.\n"
      ]
    },
    {
      "cell_type": "code",
      "execution_count": 91,
      "metadata": {},
      "outputs": [],
      "source": [
        "# Question 91\n",
        "# Implement an algorithm to find the longest subarray with at most two distinct elements.\n"
      ]
    },
    {
      "cell_type": "code",
      "execution_count": 92,
      "metadata": {},
      "outputs": [],
      "source": [
        "# Question 92\n",
        "# Determine if a given graph is a strongly connected graph.\n"
      ]
    },
    {
      "cell_type": "code",
      "execution_count": 93,
      "metadata": {},
      "outputs": [],
      "source": [
        "# Question 93\n",
        "# Implement an algorithm to find the longest subarray with equal number of 0s and 1s.\n"
      ]
    },
    {
      "cell_type": "code",
      "execution_count": 94,
      "metadata": {},
      "outputs": [],
      "source": [
        "# Question 94\n",
        "# Check if a given Sudoku puzzle has a solution.\n"
      ]
    },
    {
      "cell_type": "code",
      "execution_count": 95,
      "metadata": {},
      "outputs": [],
      "source": [
        "# Question 95\n",
        "# Implement an algorithm to find the longest subarray with sum at most K.\n"
      ]
    },
    {
      "cell_type": "code",
      "execution_count": 96,
      "metadata": {},
      "outputs": [],
      "source": [
        "# Question 96\n",
        "# Determine if a binary tree is a subtree of another binary tree.\n"
      ]
    },
    {
      "cell_type": "code",
      "execution_count": 97,
      "metadata": {},
      "outputs": [],
      "source": [
        "# Question 97\n",
        "# Implement an algorithm to find the maximum sum rectangle in a 2D matrix.\n"
      ]
    },
    {
      "cell_type": "code",
      "execution_count": 3,
      "metadata": {},
      "outputs": [
        {
          "name": "stdout",
          "output_type": "stream",
          "text": [
            "True\n"
          ]
        }
      ],
      "source": [
        "# Question 98\n",
        "# Check if a given binary tree is a complete binary tree.\n",
        "binary_tree = [1,2,32,4,5,6,7,8,96,10,11,12,13,14,15]\n",
        "def is_complete_binary_tree(binary_tree):\n",
        "    for i in range(len(binary_tree)):\n",
        "        if binary_tree[i] == None:\n",
        "            return False\n",
        "    return True\n",
        "print(is_complete_binary_tree(binary_tree))\n"
      ]
    },
    {
      "cell_type": "code",
      "execution_count": 99,
      "metadata": {},
      "outputs": [],
      "source": [
        "# Question 99\n",
        "# Implement an algorithm to find the maximum sum subarray with non-adjacent elements.\n"
      ]
    },
    {
      "cell_type": "code",
      "execution_count": 100,
      "metadata": {},
      "outputs": [],
      "source": [
        "# Question 100\n",
        "# Determine if a given string is a valid shuffle of two other strings.\n"
      ]
    },
    {
      "cell_type": "markdown",
      "metadata": {},
      "source": [
        "# End of Coding Questions\n",
        "\n",
        "This concludes the list of 100 coding interview questions.\n"
      ]
    }
  ],
  "metadata": {
    "kernelspec": {
      "display_name": "Python 3",
      "language": "python",
      "name": "python3"
    },
    "language_info": {
      "codemirror_mode": {
        "name": "ipython",
        "version": 3
      },
      "file_extension": ".py",
      "mimetype": "text/x-python",
      "name": "python",
      "nbconvert_exporter": "python",
      "pygments_lexer": "ipython3",
      "version": "3.11.6"
    }
  },
  "nbformat": 4,
  "nbformat_minor": 4
}
